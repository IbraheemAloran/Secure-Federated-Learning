{
  "cells": [
    {
      "cell_type": "markdown",
      "source": [
        "# Environment Setup\n"
      ],
      "metadata": {
        "id": "lPugeqDGynLB"
      }
    },
    {
      "cell_type": "code",
      "execution_count": null,
      "metadata": {
        "id": "6t6d-E19U8fL"
      },
      "outputs": [],
      "source": [
        "!nvidia-smi"
      ]
    },
    {
      "cell_type": "code",
      "source": [
        "from google.colab import drive\n",
        "drive.mount('/content/drive')"
      ],
      "metadata": {
        "id": "jp0r_5kms0wp"
      },
      "execution_count": null,
      "outputs": []
    },
    {
      "cell_type": "code",
      "source": [
        "!lsb_release -a"
      ],
      "metadata": {
        "id": "A0kX3ebiPg1A"
      },
      "execution_count": null,
      "outputs": []
    },
    {
      "cell_type": "code",
      "execution_count": null,
      "metadata": {
        "id": "pyP37hfaVCo0"
      },
      "outputs": [],
      "source": [
        "!nvcc --version"
      ]
    },
    {
      "cell_type": "code",
      "source": [
        "!wget https://developer.download.nvidia.com/compute/cuda/repos/ubuntu1804/x86_64/cuda-repo-ubuntu1804_11.8.0-1_amd64.deb\n",
        "!dpkg -i cuda-repo-ubuntu1804_11.8.0-1_amd64.deb\n",
        "!apt-key adv --fetch-keys http://developer.download.nvidia.com/compute/cuda/repos/ubuntu1804/x86_64/7fa2af80.pub\n",
        "!apt-get update\n",
        "!apt-get install cuda-11-8"
      ],
      "metadata": {
        "id": "oraH6xK8q-2k"
      },
      "execution_count": null,
      "outputs": []
    },
    {
      "cell_type": "code",
      "source": [
        "!pip install mxnet-cu112\n",
        "!pip install numpy==1.23.1"
      ],
      "metadata": {
        "id": "OyyCa-5EebQh"
      },
      "execution_count": null,
      "outputs": []
    },
    {
      "cell_type": "markdown",
      "source": [
        "# NON-IID Testing\n"
      ],
      "metadata": {
        "id": "MQOGp7MZClBw"
      }
    },
    {
      "cell_type": "code",
      "source": [
        "%run /content/drive/MyDrive/ColabNotebooks/train_mnist.py --bias 0.6 --nbyz 44 --aggregation simple_mean --byz_type label_flip"
      ],
      "metadata": {
        "id": "aO4oSLrvu1Yd"
      },
      "execution_count": null,
      "outputs": []
    },
    {
      "cell_type": "code",
      "source": [
        "%run /content/drive/MyDrive/ColabNotebooks/train_mnist.py --bias 0.7 --nbyz 44 --aggregation simple_mean --byz_type label_flip"
      ],
      "metadata": {
        "id": "z409juJf8iw7"
      },
      "execution_count": null,
      "outputs": []
    },
    {
      "cell_type": "code",
      "source": [
        "%run /content/drive/MyDrive/ColabNotebooks/train_mnist.py --bias 0.8 --nbyz 44 --aggregation simple_mean --byz_type label_flip"
      ],
      "metadata": {
        "id": "f4Gx_xNA8jmB"
      },
      "execution_count": null,
      "outputs": []
    },
    {
      "cell_type": "code",
      "source": [
        "%run /content/drive/MyDrive/ColabNotebooks/train_mnist.py --bias 0.9 --nbyz 44 --aggregation simple_mean --byz_type label_flip"
      ],
      "metadata": {
        "id": "_pween5k8j57"
      },
      "execution_count": null,
      "outputs": []
    },
    {
      "cell_type": "code",
      "source": [
        "%run /content/drive/MyDrive/ColabNotebooks/train_mnist.py --bias 0.6 --nbyz 44 --aggregation simple_mean --byz_type gaussian"
      ],
      "metadata": {
        "id": "ArFsZhXrR5uv"
      },
      "execution_count": null,
      "outputs": []
    },
    {
      "cell_type": "code",
      "source": [
        "%run /content/drive/MyDrive/ColabNotebooks/train_mnist.py --bias 0.7 --nbyz 44 --aggregation simple_mean --byz_type gaussian"
      ],
      "metadata": {
        "id": "NBeQJq0eR58j"
      },
      "execution_count": null,
      "outputs": []
    },
    {
      "cell_type": "code",
      "source": [
        "%run /content/drive/MyDrive/ColabNotebooks/train_mnist.py --bias 0.8 --nbyz 44 --aggregation simple_mean --byz_type gaussian"
      ],
      "metadata": {
        "id": "Nbf_iK5iR6Fc"
      },
      "execution_count": null,
      "outputs": []
    },
    {
      "cell_type": "code",
      "source": [
        "%run /content/drive/MyDrive/ColabNotebooks/train_mnist.py --bias 0.9 --nbyz 44 --aggregation simple_mean --byz_type gaussian"
      ],
      "metadata": {
        "id": "q2oE6-7GR6PF"
      },
      "execution_count": null,
      "outputs": []
    },
    {
      "cell_type": "code",
      "source": [
        "%run /content/drive/MyDrive/ColabNotebooks/train_mnist.py --bias 0.6 --nbyz 44 --aggregation simple_mean --byz_type backdoor"
      ],
      "metadata": {
        "id": "yQFVbDAHCtBp"
      },
      "execution_count": null,
      "outputs": []
    },
    {
      "cell_type": "code",
      "source": [
        "%run /content/drive/MyDrive/ColabNotebooks/train_mnist.py --bias 0.7 --nbyz 44 --aggregation simple_mean --byz_type backdoor"
      ],
      "metadata": {
        "id": "q-iV0yGgCtFX"
      },
      "execution_count": null,
      "outputs": []
    },
    {
      "cell_type": "code",
      "source": [
        "%run /content/drive/MyDrive/ColabNotebooks/train_mnist.py --bias 0.8 --nbyz 44 --aggregation simple_mean --byz_type backdoor"
      ],
      "metadata": {
        "id": "OWHfepQpCtIL"
      },
      "execution_count": null,
      "outputs": []
    },
    {
      "cell_type": "code",
      "source": [
        "%run /content/drive/MyDrive/ColabNotebooks/train_mnist.py --bias 0.9 --nbyz 44 --aggregation simple_mean --byz_type backdoor"
      ],
      "metadata": {
        "id": "0U05-CXoCtKe"
      },
      "execution_count": null,
      "outputs": []
    },
    {
      "cell_type": "code",
      "source": [
        "%run /content/drive/MyDrive/ColabNotebooks/train_mnist.py --bias 0.6 --nbyz 44 --aggregation simple_mean --byz_type dba"
      ],
      "metadata": {
        "id": "tWQFY2mvYTZs"
      },
      "execution_count": null,
      "outputs": []
    },
    {
      "cell_type": "code",
      "source": [
        "%run /content/drive/MyDrive/ColabNotebooks/train_mnist.py --bias 0.7 --nbyz 44 --aggregation simple_mean --byz_type dba"
      ],
      "metadata": {
        "id": "K93ZZYyxYU4K"
      },
      "execution_count": null,
      "outputs": []
    },
    {
      "cell_type": "code",
      "source": [
        "%run /content/drive/MyDrive/ColabNotebooks/train_mnist.py --bias 0.8 --nbyz 44 --aggregation simple_mean --byz_type dba"
      ],
      "metadata": {
        "id": "RBnV87aKGAvI"
      },
      "execution_count": null,
      "outputs": []
    },
    {
      "cell_type": "code",
      "source": [
        "%run /content/drive/MyDrive/ColabNotebooks/train_mnist.py --bias 0.9 --nbyz 44 --aggregation simple_mean --byz_type dba"
      ],
      "metadata": {
        "id": "jhGl_vnDYVvK"
      },
      "execution_count": null,
      "outputs": []
    },
    {
      "cell_type": "code",
      "source": [
        "%run /content/drive/MyDrive/ColabNotebooks/train_mnist.py --bias 0.6 --nbyz 44 --aggregation krum --byz_type label_flip"
      ],
      "metadata": {
        "id": "bngodi83GAx0"
      },
      "execution_count": null,
      "outputs": []
    },
    {
      "cell_type": "code",
      "source": [
        "%run /content/drive/MyDrive/ColabNotebooks/train_mnist.py --bias 0.7 --nbyz 44 --aggregation krum --byz_type label_flip"
      ],
      "metadata": {
        "id": "z00hRWQsGA0o"
      },
      "execution_count": null,
      "outputs": []
    },
    {
      "cell_type": "code",
      "source": [
        "%run /content/drive/MyDrive/ColabNotebooks/train_mnist.py --bias 0.8 --nbyz 44 --aggregation krum --byz_type label_flip"
      ],
      "metadata": {
        "id": "1GLGpj-BGA4f"
      },
      "execution_count": null,
      "outputs": []
    },
    {
      "cell_type": "code",
      "source": [
        "%run /content/drive/MyDrive/ColabNotebooks/train_mnist.py --bias 0.9 --nbyz 44 --aggregation krum --byz_type label_flip"
      ],
      "metadata": {
        "id": "zn4dMpaF3x1x"
      },
      "execution_count": null,
      "outputs": []
    },
    {
      "cell_type": "code",
      "source": [
        "%run /content/drive/MyDrive/ColabNotebooks/train_mnist.py --bias 0.6 --nbyz 44 --aggregation krum --byz_type gaussian"
      ],
      "metadata": {
        "id": "lF5hvlYA37a7"
      },
      "execution_count": null,
      "outputs": []
    },
    {
      "cell_type": "code",
      "source": [
        "%run /content/drive/MyDrive/ColabNotebooks/train_mnist.py --bias 0.7 --nbyz 44 --aggregation krum --byz_type gaussian"
      ],
      "metadata": {
        "id": "K5ll2VDf37nR"
      },
      "execution_count": null,
      "outputs": []
    },
    {
      "cell_type": "code",
      "source": [
        "%run /content/drive/MyDrive/ColabNotebooks/train_mnist.py --bias 0.8 --nbyz 44 --aggregation krum --byz_type gaussian"
      ],
      "metadata": {
        "id": "o147PsHB37xj"
      },
      "execution_count": null,
      "outputs": []
    },
    {
      "cell_type": "code",
      "source": [
        "%run /content/drive/MyDrive/ColabNotebooks/train_mnist.py --bias 0.9 --nbyz 44 --aggregation krum --byz_type gaussian"
      ],
      "metadata": {
        "id": "9Iq7woEU379A"
      },
      "execution_count": null,
      "outputs": []
    },
    {
      "cell_type": "code",
      "source": [
        "%run /content/drive/MyDrive/ColabNotebooks/train_mnist.py --bias 0.6 --nbyz 44 --aggregation krum --byz_type backdoor"
      ],
      "metadata": {
        "id": "7K7Fnx8i53Vw"
      },
      "execution_count": null,
      "outputs": []
    },
    {
      "cell_type": "code",
      "source": [
        "%run /content/drive/MyDrive/ColabNotebooks/train_mnist.py --bias 0.7 --nbyz 44 --aggregation krum --byz_type backdoor"
      ],
      "metadata": {
        "id": "BOrm6mxe564h"
      },
      "execution_count": null,
      "outputs": []
    },
    {
      "cell_type": "code",
      "source": [
        "%run /content/drive/MyDrive/ColabNotebooks/train_mnist.py --bias 0.8 --nbyz 44 --aggregation krum --byz_type backdoor"
      ],
      "metadata": {
        "id": "fySWMBDT56_V"
      },
      "execution_count": null,
      "outputs": []
    },
    {
      "cell_type": "code",
      "source": [
        "%run /content/drive/MyDrive/ColabNotebooks/train_mnist.py --bias 0.9 --nbyz 44 --aggregation krum --byz_type backdoor"
      ],
      "metadata": {
        "id": "_eLYd8MY57E4"
      },
      "execution_count": null,
      "outputs": []
    },
    {
      "cell_type": "code",
      "source": [
        "%run /content/drive/MyDrive/ColabNotebooks/train_cifar.py --bias 0.6 --nbyz 44 --aggregation krum --byz_type dba"
      ],
      "metadata": {
        "id": "JKSnib34Gjl3"
      },
      "execution_count": null,
      "outputs": []
    },
    {
      "cell_type": "code",
      "source": [
        "%run /content/drive/MyDrive/ColabNotebooks/train_cifar.py --bias 0.7 --nbyz 44 --aggregation krum --byz_type dba"
      ],
      "metadata": {
        "id": "Qh8Bo6h_GnwI"
      },
      "execution_count": null,
      "outputs": []
    },
    {
      "cell_type": "code",
      "source": [
        "%run /content/drive/MyDrive/ColabNotebooks/train_cifar.py --bias 0.8 --nbyz 44 --aggregation krum --byz_type dba"
      ],
      "metadata": {
        "id": "TLKdtkzgGn2q"
      },
      "execution_count": null,
      "outputs": []
    },
    {
      "cell_type": "code",
      "source": [
        "%run /content/drive/MyDrive/ColabNotebooks/train_cifar.py --bias 0.9 --nbyz 44 --aggregation krum --byz_type dba"
      ],
      "metadata": {
        "id": "crww8QmJGn8c"
      },
      "execution_count": null,
      "outputs": []
    },
    {
      "cell_type": "code",
      "source": [
        "%run /content/drive/MyDrive/ColabNotebooks/train_mnist.py --bias 0.6 --nbyz 44 --aggregation median --byz_type label_flip"
      ],
      "metadata": {
        "id": "9o4fJcZd5WEm"
      },
      "execution_count": null,
      "outputs": []
    },
    {
      "cell_type": "code",
      "source": [
        "%run /content/drive/MyDrive/ColabNotebooks/train_mnist.py --bias 0.7 --nbyz 44 --aggregation median --byz_type label_flip"
      ],
      "metadata": {
        "id": "BNKxoU8vJh02"
      },
      "execution_count": null,
      "outputs": []
    },
    {
      "cell_type": "code",
      "source": [
        "%run /content/drive/MyDrive/ColabNotebooks/train_mnist.py --bias 0.8 --nbyz 44 --aggregation median --byz_type label_flip"
      ],
      "metadata": {
        "id": "_sKsG2ju5a9j"
      },
      "execution_count": null,
      "outputs": []
    },
    {
      "cell_type": "code",
      "source": [
        "%run /content/drive/MyDrive/ColabNotebooks/train_mnist.py --bias 0.9 --nbyz 44 --aggregation median --byz_type label_flip"
      ],
      "metadata": {
        "id": "7tJCK0Bx5bKA"
      },
      "execution_count": null,
      "outputs": []
    },
    {
      "cell_type": "code",
      "source": [
        "%run /content/drive/MyDrive/ColabNotebooks/train_mnist.py --bias 0.6 --nbyz 44 --aggregation median --byz_type gaussian"
      ],
      "metadata": {
        "id": "iPcQIxWt5fLy"
      },
      "execution_count": null,
      "outputs": []
    },
    {
      "cell_type": "code",
      "source": [
        "%run /content/drive/MyDrive/ColabNotebooks/train_mnist.py --bias 0.7 --nbyz 44 --aggregation median --byz_type gaussian"
      ],
      "metadata": {
        "id": "pZAYn-sz5fOa"
      },
      "execution_count": null,
      "outputs": []
    },
    {
      "cell_type": "code",
      "source": [
        "%run /content/drive/MyDrive/ColabNotebooks/train_mnist.py --bias 0.8 --nbyz 44 --aggregation median --byz_type gaussian"
      ],
      "metadata": {
        "id": "V52Z_nKi5fSg"
      },
      "execution_count": null,
      "outputs": []
    },
    {
      "cell_type": "code",
      "source": [
        "%run /content/drive/MyDrive/ColabNotebooks/train_mnist.py --bias 0.9 --nbyz 44 --aggregation median --byz_type gaussian"
      ],
      "metadata": {
        "id": "i_FqXZcX5fV-"
      },
      "execution_count": null,
      "outputs": []
    },
    {
      "cell_type": "code",
      "source": [
        "%run /content/drive/MyDrive/ColabNotebooks/train_mnist.py --bias 0.6 --nbyz 44 --aggregation median --byz_type backdoor"
      ],
      "metadata": {
        "id": "RmEwqcZj5fnX"
      },
      "execution_count": null,
      "outputs": []
    },
    {
      "cell_type": "code",
      "source": [
        "%run /content/drive/MyDrive/ColabNotebooks/train_mnist.py --bias 0.7 --nbyz 44 --aggregation median --byz_type backdoor"
      ],
      "metadata": {
        "id": "SqQZIYSh5sHG"
      },
      "execution_count": null,
      "outputs": []
    },
    {
      "cell_type": "code",
      "source": [
        "%run /content/drive/MyDrive/ColabNotebooks/train_mnist.py --bias 0.8 --nbyz 44 --aggregation median --byz_type backdoor"
      ],
      "metadata": {
        "id": "MIVPW4Ly5sLk"
      },
      "execution_count": null,
      "outputs": []
    },
    {
      "cell_type": "code",
      "source": [
        "%run /content/drive/MyDrive/ColabNotebooks/train_mnist.py --bias 0.9 --nbyz 44 --aggregation median --byz_type backdoor"
      ],
      "metadata": {
        "id": "PxQhRq1n5sOJ"
      },
      "execution_count": null,
      "outputs": []
    },
    {
      "cell_type": "code",
      "source": [
        "%run /content/drive/MyDrive/ColabNotebooks/train_mnist.py --bias 0.6 --nbyz 44 --aggregation median --byz_type dba"
      ],
      "metadata": {
        "id": "zWMuTmSxYkOc"
      },
      "execution_count": null,
      "outputs": []
    },
    {
      "cell_type": "code",
      "source": [
        "%run /content/drive/MyDrive/ColabNotebooks/train_mnist.py --bias 0.7 --nbyz 44 --aggregation median --byz_type dba"
      ],
      "metadata": {
        "id": "woYtOeksYkVw"
      },
      "execution_count": null,
      "outputs": []
    },
    {
      "cell_type": "code",
      "source": [
        "%run /content/drive/MyDrive/ColabNotebooks/train_mnist.py --bias 0.8 --nbyz 44 --aggregation median --byz_type dba"
      ],
      "metadata": {
        "id": "Tj-uquoqYkck"
      },
      "execution_count": null,
      "outputs": []
    },
    {
      "cell_type": "code",
      "source": [
        "%run /content/drive/MyDrive/ColabNotebooks/train_mnist.py --bias 0.9 --nbyz 44 --aggregation median --byz_type dba"
      ],
      "metadata": {
        "id": "6_MtJW2xYkl-"
      },
      "execution_count": null,
      "outputs": []
    },
    {
      "cell_type": "code",
      "source": [
        "%run /content/drive/MyDrive/ColabNotebooks/train_mnist.py --bias 0.6 --nbyz 44 --aggregation trim --byz_type label_flip"
      ],
      "metadata": {
        "id": "R-DDQbgaWdhW"
      },
      "execution_count": null,
      "outputs": []
    },
    {
      "cell_type": "code",
      "source": [
        "%run /content/drive/MyDrive/ColabNotebooks/train_mnist.py --bias 0.7 --nbyz 44 --aggregation trim --byz_type label_flip"
      ],
      "metadata": {
        "id": "ZFWwtgeFWdvp"
      },
      "execution_count": null,
      "outputs": []
    },
    {
      "cell_type": "code",
      "source": [
        "%run /content/drive/MyDrive/ColabNotebooks/train_mnist.py --bias 0.8 --nbyz 44 --aggregation trim --byz_type label_flip"
      ],
      "metadata": {
        "id": "GAYIY-5QWd5v"
      },
      "execution_count": null,
      "outputs": []
    },
    {
      "cell_type": "code",
      "source": [
        "%run /content/drive/MyDrive/ColabNotebooks/train_mnist.py --bias 0.9 --nbyz 44 --aggregation trim --byz_type label_flip"
      ],
      "metadata": {
        "id": "ITmQKL_XWmjO"
      },
      "execution_count": null,
      "outputs": []
    },
    {
      "cell_type": "code",
      "source": [
        "%run /content/drive/MyDrive/ColabNotebooks/train_mnist.py --bias 0.6 --nbyz 44 --aggregation trim --byz_type gaussian"
      ],
      "metadata": {
        "id": "chZlcVNjcgnM"
      },
      "execution_count": null,
      "outputs": []
    },
    {
      "cell_type": "code",
      "source": [
        "%run /content/drive/MyDrive/ColabNotebooks/train_mnist.py --bias 0.7 --nbyz 44 --aggregation trim --byz_type gaussian"
      ],
      "metadata": {
        "id": "HNXL9J7RcgwP"
      },
      "execution_count": null,
      "outputs": []
    },
    {
      "cell_type": "code",
      "source": [
        "%run /content/drive/MyDrive/ColabNotebooks/train_mnist.py --bias 0.8 --nbyz 44 --aggregation trim --byz_type gaussian"
      ],
      "metadata": {
        "id": "yuUyRsuLcgy5"
      },
      "execution_count": null,
      "outputs": []
    },
    {
      "cell_type": "code",
      "source": [
        "%run /content/drive/MyDrive/ColabNotebooks/train_mnist.py --bias 0.9 --nbyz 44 --aggregation trim --byz_type gaussian"
      ],
      "metadata": {
        "id": "euk-U3b3chBZ"
      },
      "execution_count": null,
      "outputs": []
    },
    {
      "cell_type": "code",
      "source": [
        "%run /content/drive/MyDrive/ColabNotebooks/train_mnist.py --bias 0.6 --nbyz 44 --aggregation trim --byz_type backdoor"
      ],
      "metadata": {
        "id": "hq1uVB24khmJ"
      },
      "execution_count": null,
      "outputs": []
    },
    {
      "cell_type": "code",
      "source": [
        "%run /content/drive/MyDrive/ColabNotebooks/train_mnist.py --bias 0.7 --nbyz 44 --aggregation trim --byz_type backdoor"
      ],
      "metadata": {
        "id": "uhseN-5ckhwI"
      },
      "execution_count": null,
      "outputs": []
    },
    {
      "cell_type": "code",
      "source": [
        "%run /content/drive/MyDrive/ColabNotebooks/train_mnist.py --bias 0.8 --nbyz 44 --aggregation trim --byz_type backdoor"
      ],
      "metadata": {
        "id": "PhrnK4FBkh4O"
      },
      "execution_count": null,
      "outputs": []
    },
    {
      "cell_type": "code",
      "source": [
        "%run /content/drive/MyDrive/ColabNotebooks/train_mnist.py --bias 0.9 --nbyz 44 --aggregation trim --byz_type backdoor"
      ],
      "metadata": {
        "id": "PSLDndFBkiCv"
      },
      "execution_count": null,
      "outputs": []
    },
    {
      "cell_type": "code",
      "source": [
        "%run /content/drive/MyDrive/ColabNotebooks/train_mnist.py --bias 0.6 --nbyz 44 --aggregation trim --byz_type dba"
      ],
      "metadata": {
        "id": "UzDRk1eE25JS"
      },
      "execution_count": null,
      "outputs": []
    },
    {
      "cell_type": "code",
      "source": [
        "%run /content/drive/MyDrive/ColabNotebooks/train_mnist.py --bias 0.7 --nbyz 44 --aggregation trim --byz_type dba"
      ],
      "metadata": {
        "id": "UWOjyoRQ25Ll"
      },
      "execution_count": null,
      "outputs": []
    },
    {
      "cell_type": "code",
      "source": [
        "%run /content/drive/MyDrive/ColabNotebooks/train_mnist.py --bias 0.8 --nbyz 44 --aggregation trim --byz_type dba"
      ],
      "metadata": {
        "id": "8XbS5r5C25OO"
      },
      "execution_count": null,
      "outputs": []
    },
    {
      "cell_type": "code",
      "source": [
        "%run /content/drive/MyDrive/ColabNotebooks/train_mnist.py --bias 0.9 --nbyz 44 --aggregation trim --byz_type dba"
      ],
      "metadata": {
        "id": "sdFt2M0t25QV"
      },
      "execution_count": null,
      "outputs": []
    },
    {
      "cell_type": "markdown",
      "source": [
        "# CIFAR NON-IID TRAINING\n"
      ],
      "metadata": {
        "id": "kxil5QKHTSsq"
      }
    },
    {
      "cell_type": "code",
      "source": [
        "%run /content/drive/MyDrive/ColabNotebooks/train_cifar.py --bias 0.6 --nbyz 44 --aggregation simple_mean --byz_type dba"
      ],
      "metadata": {
        "id": "Y-fXz0zKSxkf"
      },
      "execution_count": null,
      "outputs": []
    },
    {
      "cell_type": "code",
      "source": [
        "%run /content/drive/MyDrive/ColabNotebooks/train_cifar.py --bias 0.7 --nbyz 44 --aggregation simple_mean --byz_type dba"
      ],
      "metadata": {
        "id": "uN3wFQqRTYUy"
      },
      "execution_count": null,
      "outputs": []
    },
    {
      "cell_type": "code",
      "source": [
        "%run /content/drive/MyDrive/ColabNotebooks/train_cifar.py --bias 0.8 --nbyz 44 --aggregation simple_mean --byz_type dba"
      ],
      "metadata": {
        "id": "ppM9KUC_TYw5"
      },
      "execution_count": null,
      "outputs": []
    },
    {
      "cell_type": "code",
      "source": [
        "%run /content/drive/MyDrive/ColabNotebooks/train_cifar.py --bias 0.9 --nbyz 44 --aggregation simple_mean --byz_type dba"
      ],
      "metadata": {
        "id": "H89o3m0IawiW"
      },
      "execution_count": null,
      "outputs": []
    },
    {
      "cell_type": "markdown",
      "source": [
        "# Full Training\n"
      ],
      "metadata": {
        "id": "OGcIP3ryH3Tm"
      }
    },
    {
      "cell_type": "code",
      "source": [
        "%run /content/drive/MyDrive/ColabNotebooks/train_mnist.py --bias 0.5 --nbyz 44 --aggregation simple_mean --byz_type label_flip"
      ],
      "metadata": {
        "id": "-wxWC2o8u1tI"
      },
      "execution_count": null,
      "outputs": []
    },
    {
      "cell_type": "markdown",
      "source": [
        "# Malicious Testing\n"
      ],
      "metadata": {
        "id": "zQIvQsIzCY0v"
      }
    },
    {
      "cell_type": "code",
      "source": [
        "%run /content/drive/MyDrive/ColabNotebooks/train_mnist.py --bias 0.5 --nbyz 44 --aggregation simple_mean --byz_type backdoor"
      ],
      "metadata": {
        "id": "F6k-im9tu1js"
      },
      "execution_count": null,
      "outputs": []
    },
    {
      "cell_type": "code",
      "source": [
        "%run /content/drive/MyDrive/ColabNotebooks/train_mnist.py --bias 0.5 --nbyz 45 --aggregation trim --byz_type gaussian"
      ],
      "metadata": {
        "id": "Y2bB1zooBJy0"
      },
      "execution_count": null,
      "outputs": []
    },
    {
      "cell_type": "code",
      "source": [
        "%run /content/drive/MyDrive/ColabNotebooks/train_mnist.py --bias 0.5 --nbyz 35 --aggregation trim --byz_type backdoor"
      ],
      "metadata": {
        "id": "mwTG_tO2BJ4E"
      },
      "execution_count": null,
      "outputs": []
    },
    {
      "cell_type": "code",
      "source": [
        "%run /content/drive/MyDrive/ColabNotebooks/train_mnist.py --bias 0.5 --nbyz 44 --aggregation trim --byz_type dba"
      ],
      "metadata": {
        "id": "0_dAHteYBJ54"
      },
      "execution_count": null,
      "outputs": []
    },
    {
      "cell_type": "code",
      "source": [
        "%run /content/drive/MyDrive/ColabNotebooks/train_mnist.py --bias 0.4 --nbyz 45 --aggregation trim --byz_type full_trim"
      ],
      "metadata": {
        "id": "sGV1ae4qBJ9B"
      },
      "execution_count": null,
      "outputs": []
    },
    {
      "cell_type": "code",
      "source": [
        "%run /content/drive/MyDrive/ColabNotebooks/train_mnist.py --bias 0.4 --nbyz 45 --aggregation trim --byz_type partial_trim"
      ],
      "metadata": {
        "id": "cL6GP82XBKAG"
      },
      "execution_count": null,
      "outputs": []
    },
    {
      "cell_type": "code",
      "source": [
        "%run /content/drive/MyDrive/ColabNotebooks/train_mnist.py --bias 0.5 --nbyz 45 --aggregation trim --byz_type label_flip"
      ],
      "metadata": {
        "id": "5EEf8uSwBlKs"
      },
      "execution_count": null,
      "outputs": []
    },
    {
      "cell_type": "code",
      "source": [
        "%run /content/drive/MyDrive/ColabNotebooks/train_mnist.py --bias 0.5 --nbyz 45 --aggregation krum --byz_type label_flip"
      ],
      "metadata": {
        "id": "Gv55vjU1BlTb"
      },
      "execution_count": null,
      "outputs": []
    },
    {
      "cell_type": "code",
      "source": [
        "  %run /content/drive/MyDrive/ColabNotebooks/train_mnist.py --bias 0.5 --nbyz 45 --aggregation krum --byz_type gaussian"
      ],
      "metadata": {
        "id": "syAicov7BlVa"
      },
      "execution_count": null,
      "outputs": []
    },
    {
      "cell_type": "code",
      "source": [
        "%run /content/drive/MyDrive/ColabNotebooks/train_mnist.py --bias 0.5 --nbyz 35 --aggregation krum --byz_type backdoor"
      ],
      "metadata": {
        "id": "SJTkcv_bBlYM"
      },
      "execution_count": null,
      "outputs": []
    },
    {
      "cell_type": "code",
      "source": [
        "%run /content/drive/MyDrive/ColabNotebooks/train_mnist.py --bias 0.5 --nbyz 44 --aggregation krum --byz_type dba"
      ],
      "metadata": {
        "id": "qsRUQ37PBlad"
      },
      "execution_count": null,
      "outputs": []
    },
    {
      "cell_type": "code",
      "source": [
        "%run /content/drive/MyDrive/ColabNotebooks/train_mnist.py --bias 0.5 --nbyz 45 --aggregation krum --byz_type dir_partial_krum_lambda"
      ],
      "metadata": {
        "id": "bgUoCqM3Blc5"
      },
      "execution_count": null,
      "outputs": []
    },
    {
      "cell_type": "code",
      "source": [
        "%run /content/drive/MyDrive/ColabNotebooks/train_mnist.py --bias 0.5 --nbyz 45 --aggregation krum --byz_type dir_full_krum_lambda"
      ],
      "metadata": {
        "id": "VClsUHM9BlfH"
      },
      "execution_count": null,
      "outputs": []
    },
    {
      "cell_type": "code",
      "source": [
        "%run /content/drive/MyDrive/ColabNotebooks/train_mnist.py --bias 0.5 --nbyz 45 --aggregation median --byz_type label_flip"
      ],
      "metadata": {
        "id": "vFFe10dQBliW"
      },
      "execution_count": null,
      "outputs": []
    },
    {
      "cell_type": "code",
      "source": [
        "%run /content/drive/MyDrive/ColabNotebooks/train_mnist.py --bias 0.5 --nbyz 45 --aggregation median --byz_type gaussian"
      ],
      "metadata": {
        "id": "Z4Om7Ko0CJRW"
      },
      "execution_count": null,
      "outputs": []
    },
    {
      "cell_type": "code",
      "source": [
        "%run /content/drive/MyDrive/ColabNotebooks/train_mnist.py --bias 0.5 --nbyz 35 --aggregation median --byz_type backdoor"
      ],
      "metadata": {
        "id": "tpXEC4_QCJTL"
      },
      "execution_count": null,
      "outputs": []
    },
    {
      "cell_type": "code",
      "source": [
        "%run /content/drive/MyDrive/ColabNotebooks/train_mnist.py --bias 0.5 --nbyz 44 --aggregation median --byz_type dba"
      ],
      "metadata": {
        "id": "D6ssleAbCJV5"
      },
      "execution_count": null,
      "outputs": []
    },
    {
      "cell_type": "code",
      "source": [
        "%run /content/drive/MyDrive/ColabNotebooks/train_mnist.py --bias 0.5 --nbyz 45 --aggregation median --byz_type full_trim"
      ],
      "metadata": {
        "id": "alYa6TLdCJX6"
      },
      "execution_count": null,
      "outputs": []
    },
    {
      "cell_type": "code",
      "source": [
        "%run /content/drive/MyDrive/ColabNotebooks/train_mnist.py --bias 0.5 --nbyz 45 --aggregation median --byz_type partial_trim"
      ],
      "metadata": {
        "id": "AireWkQZC8H1"
      },
      "execution_count": null,
      "outputs": []
    },
    {
      "cell_type": "code",
      "source": [
        "%run /content/drive/MyDrive/ColabNotebooks/train_mnist.py --bias 0.5 --nbyz 45 --aggregation median --byz_type mean_attack"
      ],
      "metadata": {
        "id": "E_AsFTEpCJa_"
      },
      "execution_count": null,
      "outputs": []
    },
    {
      "cell_type": "code",
      "source": [
        "%run /content/drive/MyDrive/ColabNotebooks/train_mnist.py --bias 0.5 --nbyz 45 --aggregation median --byz_type full_mean_attack"
      ],
      "metadata": {
        "id": "9NCCOQIcC8GG"
      },
      "execution_count": null,
      "outputs": []
    },
    {
      "cell_type": "code",
      "source": [
        "%run /content/drive/MyDrive/ColabNotebooks/train_mnist.py --bias 0.5 --nbyz 45 --aggregation median --byz_type dir_full_krum_lambda"
      ],
      "metadata": {
        "id": "R_ioJuo9CJct"
      },
      "execution_count": null,
      "outputs": []
    },
    {
      "cell_type": "code",
      "source": [
        "%run /content/drive/MyDrive/ColabNotebooks/train_mnist.py --bias 0.5 --nbyz 45 --aggregation median --byz_type dir_partial_krum_lambda"
      ],
      "metadata": {
        "id": "CrpDcgAyCJgM"
      },
      "execution_count": null,
      "outputs": []
    }
  ],
  "metadata": {
    "accelerator": "GPU",
    "colab": {
      "provenance": [],
      "gpuType": "T4",
      "toc_visible": true
    },
    "kernelspec": {
      "display_name": "Python 3",
      "name": "python3"
    },
    "language_info": {
      "name": "python"
    }
  },
  "nbformat": 4,
  "nbformat_minor": 0
}